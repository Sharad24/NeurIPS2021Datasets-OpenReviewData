{
 "cells": [
  {
   "cell_type": "code",
   "execution_count": 38,
   "source": [
    "from time import sleep\n",
    "from selenium import webdriver\n",
    "from selenium.webdriver.chrome.options import Options\n",
    "\n",
    "# from pyvirtualdisplay import Display\n",
    "# display = Display(visible=0, size=(800, 800)) \n",
    "# display.start()\n",
    "\n",
    "executable_path = '/usr/local/bin/chromedriver'  # path to your executable browser\n",
    "options = Options()\n",
    "browser = webdriver.Chrome(options=options, executable_path=executable_path)  "
   ],
   "outputs": [],
   "metadata": {}
  },
  {
   "cell_type": "code",
   "execution_count": 39,
   "source": [
    "url = 'https://openreview.net/group?id=NeurIPS.cc/2021/Track/Datasets_and_Benchmarks/Round2'\n",
    "browser.get(url)"
   ],
   "outputs": [],
   "metadata": {}
  },
  {
   "cell_type": "code",
   "execution_count": 65,
   "source": [
    "data_id_list = []\n",
    "# ra = browser.find_elements_by_class_name(\"left-arrow\")[0].find_elements_by_tag_name(\"a\") #[1]\n",
    "# # ra[1].click()\n",
    "# browser.execute_script(\"arguments[0].click();\", ra[0])"
   ],
   "outputs": [],
   "metadata": {}
  },
  {
   "cell_type": "code",
   "execution_count": 66,
   "source": [
    "done = False\n",
    "page = 1\n",
    "while not done:\n",
    "    print('Page: {}'.format(page))\n",
    "    for item in browser.find_elements_by_class_name(\"note\"):\n",
    "        data_id = item.get_attribute('data-id') \n",
    "        data_id_list.append(data_id)\n",
    "\n",
    "    right_arrow = browser.find_elements_by_class_name(\"right-arrow\")[0].find_elements_by_tag_name(\"a\")\n",
    "    if len(right_arrow) > 0:        \n",
    "        browser.execute_script(\"arguments[0].click();\", right_arrow[0])\n",
    "        sleep(5)\n",
    "        page += 1\n",
    "    else:\n",
    "        done = True"
   ],
   "outputs": [
    {
     "output_type": "stream",
     "name": "stdout",
     "text": [
      "Page: 1\n",
      "Page: 2\n",
      "Page: 3\n",
      "Page: 4\n",
      "Page: 5\n",
      "Page: 6\n"
     ]
    }
   ],
   "metadata": {
    "scrolled": false
   }
  },
  {
   "cell_type": "code",
   "execution_count": 69,
   "source": [
    "data_id_list = list(set(data_id_list))\n",
    "print('Number of submission: {}'.format(len(data_id_list)))\n",
    "with open('urls.txt', 'w') as urls_txt:\n",
    "    for data_id in data_id_list:\n",
    "        urls_txt.write('https://openreview.net/forum?id={}\\n'.format(data_id))"
   ],
   "outputs": [
    {
     "output_type": "stream",
     "name": "stdout",
     "text": [
      "Number of submission: 267\n"
     ]
    }
   ],
   "metadata": {}
  },
  {
   "cell_type": "code",
   "execution_count": null,
   "source": [],
   "outputs": [],
   "metadata": {}
  }
 ],
 "metadata": {
  "kernelspec": {
   "name": "python3",
   "display_name": "Python 3.8.11 64-bit ('neurips': conda)"
  },
  "language_info": {
   "codemirror_mode": {
    "name": "ipython",
    "version": 3
   },
   "file_extension": ".py",
   "mimetype": "text/x-python",
   "name": "python",
   "nbconvert_exporter": "python",
   "pygments_lexer": "ipython3",
   "version": "3.8.11"
  },
  "interpreter": {
   "hash": "e50b9d8a31451bc77b2a0581081828f3a4311f4662ee901c27c8a4f62669f32f"
  }
 },
 "nbformat": 4,
 "nbformat_minor": 2
}